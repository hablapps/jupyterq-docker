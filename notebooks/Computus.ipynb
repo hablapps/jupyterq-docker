{
 "cells": [
  {
   "cell_type": "code",
   "execution_count": 4,
   "id": "932bea63",
   "metadata": {},
   "outputs": [],
   "source": [
    "computus:{[y] \n",
    "  a:y mod 19;\n",
    "  b:y div 100;\n",
    "  c:y mod 100;\n",
    "  d:b div 4;\n",
    "  e:b mod 4;\n",
    "  f:(b+8) div 25;\n",
    "  g:(b-f+1) div 3;\n",
    "  h:((19*a)+b+15-(d+g)) mod 30;\n",
    "  i:c div 4;\n",
    "  k:c mod 4;\n",
    "  l:(32+(2*e)+(2*i)-(h+k)) mod 7;\n",
    "  m:(a+(11*h)+(22*l)) div 451;\n",
    "  n:h+l+114-(7*m);\n",
    "  month:`date$`month$(12*y-2000)+(-1+n div 31);\n",
    "  day: 1+(n mod 31);\n",
    "  :month+day-1\n",
    "  }\n",
    "\n",
    "monthNames:(\"Enero\";\"Febrero\";\"Marzo\";\"Abril\";\"Mayo\";\"Junio\";\"Julio\";\"Agosto\";\"Septiembre\";\"Octubre\";\"Noviembre\";\"Diciembre\")\n",
    "\n",
    "getMonth: {[x] 1+`int$(`month$x)- 12*(`year$x)-2000}"
   ]
  },
  {
   "cell_type": "code",
   "execution_count": 5,
   "id": "46949404",
   "metadata": {},
   "outputs": [],
   "source": [
    "cal:select year, easter: computus year from ([]year: 1900+til 200)"
   ]
  },
  {
   "cell_type": "code",
   "execution_count": 7,
   "id": "1638a8b8",
   "metadata": {},
   "outputs": [
    {
     "data": {
      "text/plain": [
       "year easter    \n",
       "---------------\n",
       "1900 1900.04.22\n",
       "1901 1901.04.07\n",
       "1902 1902.03.30\n",
       "1903 1903.04.19\n",
       "1904 1904.04.03\n",
       "1905 1905.03.26\n",
       "1906 1906.04.15\n",
       "1907 1907.03.31\n",
       "1908 1908.04.19\n",
       "1909 1909.04.11\n",
       "1910 1910.03.27\n",
       "1911 1911.04.16\n",
       "1912 1912.04.07\n",
       "1913 1913.03.30\n",
       "1914 1914.04.12\n",
       "1915 1915.04.04\n",
       "1916 1916.04.23\n",
       "1917 1917.04.15\n",
       "1918 1918.03.31\n",
       "1919 1919.04.20\n",
       "..\n"
      ]
     },
     "execution_count": 7,
     "metadata": {},
     "output_type": "execute_result"
    }
   ],
   "source": [
    "cal"
   ]
  }
 ],
 "metadata": {
  "kernelspec": {
   "display_name": "Q (kdb+)",
   "language": "q",
   "name": "qpk"
  },
  "language_info": {
   "file_extension": ".q",
   "mimetype": "text/x-q",
   "name": "q",
   "version": "4.0"
  }
 },
 "nbformat": 4,
 "nbformat_minor": 5
}
